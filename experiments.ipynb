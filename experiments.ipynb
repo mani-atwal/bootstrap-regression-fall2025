{
 "cells": [
  {
   "cell_type": "markdown",
   "id": "07b8f179",
   "metadata": {},
   "source": [
    "# Bootstrap Regression Experiments"
   ]
  },
  {
   "cell_type": "markdown",
   "id": "9425cc83",
   "metadata": {},
   "source": [
    "### Run bootstrap experiments for linear regression with simulated heteroskedastic, heavy-tailed data."
   ]
  },
  {
   "cell_type": "code",
   "execution_count": null,
   "id": "4ce654e7",
   "metadata": {},
   "outputs": [
    {
     "ename": "ImportError",
     "evalue": "cannot import name 'plot_coef_hist' from 'src.evaluate' (/Users/mani/Desktop/regression/bootstrap-regression-fall2025/src/evaluate.py)",
     "output_type": "error",
     "traceback": [
      "\u001b[0;31m---------------------------------------------------------------------------\u001b[0m",
      "\u001b[0;31mImportError\u001b[0m                               Traceback (most recent call last)",
      "Cell \u001b[0;32mIn[1], line 9\u001b[0m\n\u001b[1;32m      2\u001b[0m \u001b[38;5;28;01mfrom\u001b[39;00m\u001b[38;5;250m \u001b[39m\u001b[38;5;21;01msrc\u001b[39;00m\u001b[38;5;21;01m.\u001b[39;00m\u001b[38;5;21;01msimulate\u001b[39;00m\u001b[38;5;250m \u001b[39m\u001b[38;5;28;01mimport\u001b[39;00m generate_linear_data, save_df, plot_data\n\u001b[1;32m      3\u001b[0m \u001b[38;5;28;01mfrom\u001b[39;00m\u001b[38;5;250m \u001b[39m\u001b[38;5;21;01msrc\u001b[39;00m\u001b[38;5;21;01m.\u001b[39;00m\u001b[38;5;21;01mbootstrap_methods\u001b[39;00m\u001b[38;5;250m \u001b[39m\u001b[38;5;28;01mimport\u001b[39;00m (\n\u001b[1;32m      4\u001b[0m     fit_ols,\n\u001b[1;32m      5\u001b[0m     bootstrap_parametric_normal,\n\u001b[1;32m      6\u001b[0m     bootstrap_pairs,\n\u001b[1;32m      7\u001b[0m     bootstrap_summary,\n\u001b[1;32m      8\u001b[0m )\n\u001b[0;32m----> 9\u001b[0m \u001b[38;5;28;01mfrom\u001b[39;00m\u001b[38;5;250m \u001b[39m\u001b[38;5;21;01msrc\u001b[39;00m\u001b[38;5;21;01m.\u001b[39;00m\u001b[38;5;21;01mevaluate\u001b[39;00m\u001b[38;5;250m \u001b[39m\u001b[38;5;28;01mimport\u001b[39;00m (\n\u001b[1;32m     10\u001b[0m     plot_bootstrap_lines,\n\u001b[1;32m     11\u001b[0m     plot_coef_hist,\n\u001b[1;32m     12\u001b[0m     compute_bias_variance,\n\u001b[1;32m     13\u001b[0m )\n",
      "\u001b[0;31mImportError\u001b[0m: cannot import name 'plot_coef_hist' from 'src.evaluate' (/Users/mani/Desktop/regression/bootstrap-regression-fall2025/src/evaluate.py)"
     ]
    }
   ],
   "source": [
    "import pandas as pd\n",
    "from src.simulate import generate_linear_data, save_df, plot_data\n",
    "from src.bootstrap_methods import (\n",
    "    fit_ols,\n",
    "    bootstrap_parametric_normal,\n",
    "    bootstrap_pairs,\n",
    "    bootstrap_summary,\n",
    ")\n",
    "from src.evaluate import (\n",
    "    plot_bootstrap_lines,\n",
    "    plot_coef_histogram,\n",
    "    compute_bias_var,\n",
    ")"
   ]
  },
  {
   "cell_type": "markdown",
   "id": "fc00dc2d",
   "metadata": {},
   "source": [
    "## Experiment Setup"
   ]
  },
  {
   "cell_type": "code",
   "execution_count": null,
   "id": "f2e18c28",
   "metadata": {},
   "outputs": [],
   "source": [
    "random_seed = 2025\n",
    "n_boot = 10000   # lower for quicker runtime\n",
    "\n",
    "# Simulate messy data (heteroskedastic + heavy-tailed)\n",
    "df, true_params = generate_linear_data(\n",
    "    seed=random_seed,\n",
    "    heteroskedastic=True,\n",
    "    hetero_strength=5.0,\n",
    "    heavy_tails=True,\n",
    ")\n",
    "save_df(df, \"data/simulated.csv\")\n",
    "\n",
    "X = df[\"x\"].values\n",
    "y = df[\"y\"].values\n",
    "\n",
    "# Quick visualization of the simulated data\n",
    "plot_data(df, true_params)"
   ]
  },
  {
   "cell_type": "code",
   "execution_count": null,
   "id": "f3f48ab4",
   "metadata": {},
   "outputs": [],
   "source": [
    "# Baseline OLS fit\n",
    "\n",
    "ols_fit = fit_ols(X, y)\n",
    "print(ols_fit.summary())"
   ]
  },
  {
   "cell_type": "markdown",
   "id": "b60b4747",
   "metadata": {},
   "source": [
    "# 1. Parametric Normal Bootstrap"
   ]
  },
  {
   "cell_type": "code",
   "execution_count": null,
   "id": "bd9674ac",
   "metadata": {},
   "outputs": [],
   "source": [
    "boot_param = bootstrap_parametric_normal(X, y, n_boot=n_boot, seed=1)\n",
    "boot_param = boot_param.rename(columns={0: \"x1\"})  # nicer column names\n",
    "\n",
    "print(\"Parametric bootstrap summary:\\n\", bootstrap_summary(boot_param))\n",
    "\n",
    "plot_bootstrap_lines(X, y, boot_param, n_lines=50)\n",
    "plot_coef_histogram(boot_param, coef=\"x1\", alpha=0.05, ols_res=ols_fit)\n",
    "\n",
    "print(\"Parametric bootstrap bias/variance:\\n\",\n",
    "      compute_bias_var(boot_param, {\n",
    "          \"const\": true_params[\"beta0\"],\n",
    "          \"x1\": true_params[\"beta1\"],\n",
    "      }).round(4))"
   ]
  },
  {
   "cell_type": "markdown",
   "id": "449e1831",
   "metadata": {},
   "source": [
    "## 2. Pairs Bootstrap"
   ]
  },
  {
   "cell_type": "code",
   "execution_count": null,
   "id": "af5fe5c4",
   "metadata": {},
   "outputs": [],
   "source": [
    "boot_pairs = bootstrap_pairs(X, y, n_boot=n_boot, seed=1)\n",
    "boot_pairs = boot_pairs.rename(columns={0: \"x1\"})\n",
    "\n",
    "print(\"Pairs bootstrap summary:\\n\", bootstrap_summary(boot_pairs))\n",
    "\n",
    "plot_bootstrap_lines(X, y, boot_pairs, n_lines=50)\n",
    "plot_coef_histogram(boot_pairs, coef=\"x1\", alpha=0.05, ols_res=ols_fit)\n",
    "\n",
    "print(\"Pairs bootstrap bias/variance:\\n\",\n",
    "      compute_bias_var(boot_pairs, {\n",
    "          \"const\": true_params[\"beta0\"],\n",
    "          \"x1\": true_params[\"beta1\"],\n",
    "      }).round(4))"
   ]
  },
  {
   "cell_type": "markdown",
   "id": "b1d385c3",
   "metadata": {},
   "source": [
    "## Notes/Insights"
   ]
  },
  {
   "cell_type": "markdown",
   "id": "fc52b9bf",
   "metadata": {},
   "source": [
    "### - Both bootstraps recover the slope (x1) very well: almost no bias (~+0.05).\n",
    "### - Intercept (const) is less precise, with upward bias (~+0.47).\n",
    "### - Parametric bootstrap assumes normal residuals, so it yields slightly narrower CIs.\n",
    "### - In heavy-tailed data, pairs bootstrap is more robust."
   ]
  }
 ],
 "metadata": {
  "kernelspec": {
   "display_name": "base",
   "language": "python",
   "name": "python3"
  },
  "language_info": {
   "codemirror_mode": {
    "name": "ipython",
    "version": 3
   },
   "file_extension": ".py",
   "mimetype": "text/x-python",
   "name": "python",
   "nbconvert_exporter": "python",
   "pygments_lexer": "ipython3",
   "version": "3.13.5"
  }
 },
 "nbformat": 4,
 "nbformat_minor": 5
}
