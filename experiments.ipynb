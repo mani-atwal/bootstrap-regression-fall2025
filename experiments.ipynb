{
 "cells": [
  {
   "cell_type": "markdown",
   "id": "d008334b",
   "metadata": {},
   "source": [
    "# Experiments — Bootstrapping in Linear Regression"
   ]
  },
  {
   "cell_type": "code",
   "execution_count": null,
   "id": "2a81e82e",
   "metadata": {},
   "outputs": [],
   "source": [
    "import numpy as np\n",
    "import pandas as pd\n",
    "import time\n",
    "# from src.bootstrap_methods import ...\n",
    "# from src.evaluate import ..."
   ]
  },
  {
   "cell_type": "markdown",
   "id": "a5fd6ded",
   "metadata": {},
   "source": [
    "## 1) Simulated data-generating processes"
   ]
  },
  {
   "cell_type": "markdown",
   "id": "2044741a",
   "metadata": {},
   "source": [
    "## 2) Bootstrap variants to run"
   ]
  },
  {
   "cell_type": "markdown",
   "id": "dd35011e",
   "metadata": {},
   "source": [
    "## 3) Metrics and aggregation"
   ]
  }
 ],
 "metadata": {
  "kernelspec": {
   "display_name": "base",
   "language": "python",
   "name": "python3"
  },
  "language_info": {
   "name": "python",
   "version": "3.13.5"
  }
 },
 "nbformat": 4,
 "nbformat_minor": 5
}
